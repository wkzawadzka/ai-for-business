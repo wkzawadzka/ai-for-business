{
 "cells": [
  {
   "attachments": {},
   "cell_type": "markdown",
   "metadata": {},
   "source": [
    "# Minimizing Costs in Energy Consumption of a Data Center\n",
    "____"
   ]
  },
  {
   "cell_type": "code",
   "execution_count": 1,
   "metadata": {},
   "outputs": [],
   "source": [
    "import numpy as np\n",
    "from typing import List"
   ]
  },
  {
   "attachments": {},
   "cell_type": "markdown",
   "metadata": {},
   "source": [
    "### Rationale \n",
    "____\n",
    "\n",
    "In 2016, DeepMind AI minimized a big part of Google’s cost by reducing Google Data Centre Cooling Bill by\n",
    "40% using their DQN AI model (Deep Q-Learning). In this case study, we will do something very similar. We\n",
    "will set up our own server environment, and we will build an AI that will be controlling the cooling/heating\n",
    "of the server so that it stays in an optimal range of temperatures while saving the maximum energy, therefore\n",
    "minimizing the costs. And just as DeepMind AI did, our goal will be to achieve at least 40% energy saving. [1]"
   ]
  },
  {
   "attachments": {},
   "cell_type": "markdown",
   "metadata": {},
   "source": [
    "### Defining the enviorment\n",
    "____"
   ]
  },
  {
   "cell_type": "code",
   "execution_count": null,
   "metadata": {},
   "outputs": [],
   "source": []
  },
  {
   "attachments": {},
   "cell_type": "markdown",
   "metadata": {},
   "source": [
    "### References\n",
    "_____\n",
    "[1] Artificial Intelligence for Business Udemy Course  [Link to the course](https://www.udemy.com/share/101Y7E3@ufylekA5UWd1-mxWKBL2ecxPn01pSdl5tfu-wGkkbyEcOpnoF9HyJXi_3vey6XqgmQ==/)\n"
   ]
  }
 ],
 "metadata": {
  "kernelspec": {
   "display_name": "Python 3",
   "language": "python",
   "name": "python3"
  },
  "language_info": {
   "codemirror_mode": {
    "name": "ipython",
    "version": 3
   },
   "file_extension": ".py",
   "mimetype": "text/x-python",
   "name": "python",
   "nbconvert_exporter": "python",
   "pygments_lexer": "ipython3",
   "version": "3.9.6"
  },
  "orig_nbformat": 4,
  "vscode": {
   "interpreter": {
    "hash": "d5bf1b1c2666f930d89b0cedc37bc172e36184b5884258e5d17d5b824b37ab44"
   }
  }
 },
 "nbformat": 4,
 "nbformat_minor": 2
}
